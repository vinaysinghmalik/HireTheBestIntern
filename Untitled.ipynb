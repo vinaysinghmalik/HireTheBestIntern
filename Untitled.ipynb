{
 "cells": [
  {
   "cell_type": "code",
   "execution_count": 4,
   "id": "ebfcd353",
   "metadata": {},
   "outputs": [],
   "source": [
    "import pandas as pd\n",
    "\n",
    "# Read the dataset\n",
    "dataset = pd.read_csv('abc.csv')"
   ]
  },
  {
   "cell_type": "code",
   "execution_count": 5,
   "id": "54d62e6e",
   "metadata": {},
   "outputs": [],
   "source": [
    "# Assign weights to each skill\n",
    "weights = {\n",
    "    'Python': 0.4,\n",
    "    'Machine Learning': 0.3,\n",
    "    'Natural Language Processing (NLP)': 0.2,\n",
    "    'Deep Learning': 0.2\n",
    "}\n"
   ]
  },
  {
   "cell_type": "code",
   "execution_count": 12,
   "id": "0246d71b",
   "metadata": {},
   "outputs": [],
   "source": [
    "dataset['Weighted_Score'] = (\n",
    "    dataset['Python (out of 3)'] * weights['Python'] +\n",
    "    dataset['Machine Learning (out of 3)'] * weights['Machine Learning'] +\n",
    "    dataset['Natural Language Processing (NLP) (out of 3)'] * weights['Natural Language Processing (NLP)'] +\n",
    "    dataset['Deep Learning (out of 3)'] * weights['Deep Learning']\n",
    ")"
   ]
  },
  {
   "cell_type": "code",
   "execution_count": 17,
   "id": "7264a31d",
   "metadata": {},
   "outputs": [
    {
     "name": "stdout",
     "output_type": "stream",
     "text": [
      "Index(['Name', 'Python (out of 3)', 'Machine Learning (out of 3)',\n",
      "       'Natural Language Processing (NLP) (out of 3)',\n",
      "       'Deep Learning (out of 3)', 'Other skills',\n",
      "       'Are you available for 3 months, starting immediately, for a full-time work from home internship? ',\n",
      "       'Degree', 'Stream', 'Current Year Of Graduation', 'Performance_PG',\n",
      "       'Performance_UG', 'Performance_12', 'Performance_10', 'Weighted_Score'],\n",
      "      dtype='object')\n"
     ]
    }
   ],
   "source": [
    "print(dataset.columns)\n"
   ]
  },
  {
   "cell_type": "code",
   "execution_count": 20,
   "id": "6c57f519",
   "metadata": {},
   "outputs": [],
   "source": [
    "dataset = dataset[dataset['Are you available for 3 months, starting immediately, for a full-time work from home internship? '] == 'Yes, I am available for 3 months starting immediately for a full-time internship.']\n"
   ]
  },
  {
   "cell_type": "code",
   "execution_count": 21,
   "id": "9f135a1e",
   "metadata": {},
   "outputs": [],
   "source": [
    "dataset = dataset.sort_values('Weighted_Score', ascending=False)"
   ]
  },
  {
   "cell_type": "code",
   "execution_count": null,
   "id": "dc595dcd",
   "metadata": {},
   "outputs": [],
   "source": [
    "best_intern = dataset.iloc[0]\n",
    "\n",
    "\n",
    "print(\"Best Intern:\")\n",
    "print(best_intern)"
   ]
  },
  {
   "cell_type": "code",
   "execution_count": null,
   "id": "b2d153f0",
   "metadata": {},
   "outputs": [],
   "source": []
  }
 ],
 "metadata": {
  "kernelspec": {
   "display_name": "Python 3 (ipykernel)",
   "language": "python",
   "name": "python3"
  },
  "language_info": {
   "codemirror_mode": {
    "name": "ipython",
    "version": 3
   },
   "file_extension": ".py",
   "mimetype": "text/x-python",
   "name": "python",
   "nbconvert_exporter": "python",
   "pygments_lexer": "ipython3",
   "version": "3.10.9"
  }
 },
 "nbformat": 4,
 "nbformat_minor": 5
}
